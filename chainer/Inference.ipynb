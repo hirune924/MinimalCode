{
 "cells": [
  {
   "cell_type": "code",
   "execution_count": 1,
   "metadata": {},
   "outputs": [],
   "source": [
    "import chainer\n",
    "import chainer.links as L\n",
    "import chainer.functions as F\n",
    "import chainer.optimizers as opt\n",
    "from chainer.dataset import concat_examples\n",
    "from chainer.backends import cuda\n",
    "\n",
    "import numpy as np\n",
    "from functools import partial\n",
    "\n",
    "#from tqdm import tqdm\n",
    "from tqdm import tqdm_notebook as tqdm\n",
    "\n",
    "import models.VGG"
   ]
  },
  {
   "cell_type": "markdown",
   "metadata": {},
   "source": [
    "# DataLoader(CIFAR10)"
   ]
  },
  {
   "cell_type": "code",
   "execution_count": 2,
   "metadata": {},
   "outputs": [],
   "source": [
    "batch_size = 100\n",
    "def transform(in_data, std, mean):\n",
    "    img, label = in_data\n",
    "    img -= np.asarray(mean)[:, np.newaxis, np.newaxis]\n",
    "    img /= np.asarray(std)[:, np.newaxis, np.newaxis]\n",
    "    return img, label\n",
    "_, testset = chainer.datasets.cifar.get_cifar10(withlabel=True, ndim=3, scale=1.0)\n",
    "\n",
    "testset_trans = chainer.datasets.TransformDataset(testset, partial(transform, std=[0.5, 0.5, 0.5], mean=[0.5, 0.5, 0.5]))\n",
    "test_loader = chainer.iterators.MultiprocessIterator(testset_trans, batch_size=batch_size, shuffle = False, n_processes=2)\n",
    "\n",
    "classes = ('plane', 'car', 'bird', 'cat',\n",
    "           'deer', 'dog', 'frog', 'horse', 'ship', 'truck')"
   ]
  },
  {
   "cell_type": "markdown",
   "metadata": {},
   "source": [
    "# Model"
   ]
  },
  {
   "cell_type": "code",
   "execution_count": 3,
   "metadata": {},
   "outputs": [],
   "source": [
    "#model = L.VGG16Layers()\n",
    "#model.fc6 = L.Linear(512, 4096)\n",
    "#model.fc8 = L.Linear(4096, len(classes))\n",
    "#model.available_layers\n",
    "\n",
    "#model = L.Classifier(models.VGG.VGG(len(classes)))\n",
    "model = models.VGG.VGG(len(classes))\n",
    "chainer.serializers.load_npz(\"params/model.npz\", model)\n",
    "\n",
    "gpu_id = 0  # Set to -1 if you use CPU\n",
    "if gpu_id >= 0:\n",
    "    model.to_gpu(gpu_id)"
   ]
  },
  {
   "cell_type": "markdown",
   "metadata": {},
   "source": [
    "# Inference function"
   ]
  },
  {
   "cell_type": "code",
   "execution_count": 4,
   "metadata": {},
   "outputs": [],
   "source": [
    "def inference_loop(model, loader, num_steps, gpu_id):\n",
    "    with chainer.using_config('train', False):\n",
    "        bar = tqdm(total=num_steps, leave=False)\n",
    "        total_acc, total_num = 0, 0\n",
    "        while True:\n",
    "            feed = loader.next()\n",
    "            # Prepare data\n",
    "            inputs, labels = concat_examples(feed, gpu_id)\n",
    "            # Foward\n",
    "            #outputs = model.forward(inputs, layers=['fc8'])['fc8']\n",
    "            outputs = model(inputs)\n",
    "            # Update bar\n",
    "            ## Accuracy\n",
    "            accuracy = F.accuracy(outputs, labels)\n",
    "            accuracy.to_cpu()\n",
    "            ## Calcurate Score\n",
    "            total_acc += accuracy.data\n",
    "            total_num += len(labels)\n",
    "\n",
    "            #print(total_loss / total_num, total_acc / total_num * 100)\n",
    "            bar.set_description(\"Accuracy: {:.2f}\".format(total_acc / total_num * 100), refresh=True)\n",
    "            bar.update()\n",
    "            \n",
    "            if loader.is_new_epoch:\n",
    "                bar.close()\n",
    "                break\n",
    "                \n",
    "    return total_num, total_acc / total_num * 100"
   ]
  },
  {
   "cell_type": "code",
   "execution_count": 5,
   "metadata": {},
   "outputs": [
    {
     "data": {
      "application/vnd.jupyter.widget-view+json": {
       "model_id": "",
       "version_major": 2,
       "version_minor": 0
      },
      "text/plain": [
       "HBox(children=(IntProgress(value=0), HTML(value='')))"
      ]
     },
     "metadata": {},
     "output_type": "display_data"
    },
    {
     "name": "stdout",
     "output_type": "stream",
     "text": [
      "\r",
      "Data num: 10000, Test Accuracy: 0.66\n"
     ]
    }
   ],
   "source": [
    "data_num, acc = inference_loop(model, test_loader, len(testset_trans)/batch_size, gpu_id)\n",
    "print('Data num: {}, Test Accuracy: {:.2f}'.format(data_num, acc))"
   ]
  }
 ],
 "metadata": {
  "kernelspec": {
   "display_name": "Python 3",
   "language": "python",
   "name": "python3"
  },
  "language_info": {
   "codemirror_mode": {
    "name": "ipython",
    "version": 3
   },
   "file_extension": ".py",
   "mimetype": "text/x-python",
   "name": "python",
   "nbconvert_exporter": "python",
   "pygments_lexer": "ipython3",
   "version": "3.5.6"
  },
  "widgets": {
   "state": {
    "0bd7dc127ee4413ab515cf577540ea92": {
     "views": []
    },
    "0c1aa2a507b34b2b91c2fbe12f07ebe2": {
     "views": []
    },
    "0da26128e16c4b64b5d6b2e83b357821": {
     "views": []
    },
    "217fff5275de4f19b50ace5ae34b467c": {
     "views": []
    },
    "51a5731714674519a39e4ae5ba4f9358": {
     "views": []
    },
    "5b92f8907c7541498b56257eeeab6ce4": {
     "views": []
    },
    "79798855771a486d9fcd5ce068b95f4c": {
     "views": []
    },
    "c3b05fb389784aea82a075a0468743cc": {
     "views": []
    },
    "d4d9eb0e3f0e47ce8fd424dce19cdca1": {
     "views": [
      {
       "cell_index": 11
      }
     ]
    },
    "ec3f0e957d094c4a85de04d49251d2c5": {
     "views": []
    },
    "f7e4125f6ded474f92d4df71d055a5f9": {
     "views": []
    },
    "ffbaca3b0ac744da90f889606a2cf59f": {
     "views": []
    }
   },
   "version": "1.1.2"
  }
 },
 "nbformat": 4,
 "nbformat_minor": 2
}
