{
 "cells": [
  {
   "cell_type": "code",
   "execution_count": 1,
   "metadata": {},
   "outputs": [],
   "source": [
    "import chainer\n",
    "import chainer.links as L\n",
    "import chainer.functions as F\n",
    "import chainer.optimizers as opt\n",
    "from chainer.dataset import concat_examples\n",
    "from chainer.backends import cuda\n",
    "\n",
    "import numpy as np\n",
    "from functools import partial\n",
    "\n",
    "#from tqdm import tqdm\n",
    "from tqdm import tqdm_notebook as tqdm\n",
    "\n",
    "import models.VGG"
   ]
  },
  {
   "cell_type": "markdown",
   "metadata": {},
   "source": [
    "# DataLoader(CIFAR10)"
   ]
  },
  {
   "cell_type": "code",
   "execution_count": 2,
   "metadata": {},
   "outputs": [],
   "source": [
    "batch_size = 100\n",
    "def transform(in_data, std, mean):\n",
    "    img, label = in_data\n",
    "    img -= np.asarray(mean)[:, np.newaxis, np.newaxis]\n",
    "    img /= np.asarray(std)[:, np.newaxis, np.newaxis]\n",
    "    return img, label\n",
    "trainset, testset = chainer.datasets.cifar.get_cifar10(withlabel=True, ndim=3, scale=1.0)\n",
    "\n",
    "trainset_trans = chainer.datasets.TransformDataset(trainset, partial(transform, std=[0.5, 0.5, 0.5], mean=[0.5, 0.5, 0.5]))\n",
    "train_loader = chainer.iterators.MultiprocessIterator(trainset_trans, batch_size=batch_size, shuffle = True, n_processes=2)\n",
    "\n",
    "testset_trans = chainer.datasets.TransformDataset(testset, partial(transform, std=[0.5, 0.5, 0.5], mean=[0.5, 0.5, 0.5]))\n",
    "test_loader = chainer.iterators.MultiprocessIterator(testset_trans, batch_size=batch_size, shuffle = False, n_processes=2)\n",
    "\n",
    "classes = ('plane', 'car', 'bird', 'cat',\n",
    "           'deer', 'dog', 'frog', 'horse', 'ship', 'truck')"
   ]
  },
  {
   "cell_type": "markdown",
   "metadata": {},
   "source": [
    "# Model"
   ]
  },
  {
   "cell_type": "code",
   "execution_count": 3,
   "metadata": {},
   "outputs": [],
   "source": [
    "model = L.VGG16Layers()\n",
    "model.fc6 = L.Linear(512, 4096)\n",
    "model.fc8 = L.Linear(4096, len(classes))\n",
    "#model.available_layers\n",
    "\n",
    "##model = L.Classifier(models.VGG.VGG(len(classes)))\n",
    "#model = models.VGG.VGG(len(classes))\n",
    "\n",
    "gpu_id = 0  # Set to -1 if you use CPU\n",
    "if gpu_id >= 0:\n",
    "    model.to_gpu(gpu_id)"
   ]
  },
  {
   "cell_type": "markdown",
   "metadata": {},
   "source": [
    "# Optimizer"
   ]
  },
  {
   "cell_type": "code",
   "execution_count": 4,
   "metadata": {},
   "outputs": [
    {
     "data": {
      "text/plain": [
       "<chainer.optimizers.adam.Adam at 0x7eff7311cb70>"
      ]
     },
     "execution_count": 4,
     "metadata": {},
     "output_type": "execute_result"
    }
   ],
   "source": [
    "optimizer = opt.Adam(alpha=0.001, beta1=0.9, beta2=0.999, eps=1e-08, eta=1.0, weight_decay_rate=0, amsgrad=False) \n",
    "optimizer.setup(model)"
   ]
  },
  {
   "cell_type": "markdown",
   "metadata": {},
   "source": [
    "# Train 1 epoch function"
   ]
  },
  {
   "cell_type": "code",
   "execution_count": 5,
   "metadata": {},
   "outputs": [],
   "source": [
    "def train_loop(model, loader, optimizer, num_steps,gpu_id):\n",
    "    with chainer.using_config('train', True):\n",
    "        bar = tqdm(total=num_steps, leave=False)\n",
    "        total_loss, total_acc, total_num = 0, 0, 0\n",
    "        while True:\n",
    "            feed = loader.next()\n",
    "            # Prepare data\n",
    "            inputs, labels = concat_examples(feed, gpu_id)\n",
    "            # Foward\n",
    "            outputs = model.forward(inputs, layers=['fc8'])['fc8']\n",
    "            #outputs = model(inputs)\n",
    "            # Calcurate Loss\n",
    "            loss = F.softmax_cross_entropy(outputs, labels)\n",
    "            # initialize gradient\n",
    "            model.cleargrads()\n",
    "            # Backward\n",
    "            loss.backward()\n",
    "            # Update Params\n",
    "            optimizer.update()\n",
    "            # Update bar\n",
    "            ## Accuracy\n",
    "            accuracy = F.accuracy(outputs, labels)\n",
    "            accuracy.to_cpu()\n",
    "            ## Calcurate Score\n",
    "            total_loss += chainer.cuda.to_cpu(loss.data) * len(labels)\n",
    "            total_acc += accuracy.data\n",
    "            total_num += len(labels)\n",
    "\n",
    "            #print(total_loss / total_num, total_acc / total_num * 100)\n",
    "            bar.set_description(\"Loss: {:.4f}, Accuracy: {:.2f}\".format(\n",
    "                total_loss / total_num, total_acc / total_num * 100), refresh=True)\n",
    "            bar.update()\n",
    "            \n",
    "            if loader.is_new_epoch:\n",
    "                bar.close()\n",
    "                break\n",
    "                \n",
    "    return total_loss / total_num, total_acc / total_num * 100"
   ]
  },
  {
   "cell_type": "markdown",
   "metadata": {},
   "source": [
    "# Validation function"
   ]
  },
  {
   "cell_type": "code",
   "execution_count": 6,
   "metadata": {},
   "outputs": [],
   "source": [
    "def valid_loop(model, loader, optimizer, num_steps,gpu_id):\n",
    "    with chainer.using_config('train', False):\n",
    "        bar = tqdm(total=num_steps, leave=False)\n",
    "        total_loss, total_acc, total_num = 0, 0, 0\n",
    "        while True:\n",
    "            feed = loader.next()\n",
    "            # Prepare data\n",
    "            inputs, labels = concat_examples(feed, gpu_id)\n",
    "            # Foward\n",
    "            outputs = model.forward(inputs, layers=['fc8'])['fc8']\n",
    "            #outputs = model(inputs)\n",
    "            # Calcurate Loss\n",
    "            loss = F.softmax_cross_entropy(outputs, labels)\n",
    "            # Update bar\n",
    "            ## Accuracy\n",
    "            accuracy = F.accuracy(outputs, labels)\n",
    "            accuracy.to_cpu()\n",
    "            ## Calcurate Score\n",
    "            total_loss += chainer.cuda.to_cpu(loss.data) * len(labels)\n",
    "            total_acc += accuracy.data\n",
    "            total_num += len(labels)\n",
    "\n",
    "            #print(total_loss / total_num, total_acc / total_num * 100)\n",
    "            bar.set_description(\"Loss: {:.4f}, Accuracy: {:.2f}\".format(\n",
    "                total_loss / total_num, total_acc / total_num * 100), refresh=True)\n",
    "            bar.update()\n",
    "            \n",
    "            if loader.is_new_epoch:\n",
    "                bar.close()\n",
    "                break\n",
    "                \n",
    "    return total_loss / total_num, total_acc / total_num * 100"
   ]
  },
  {
   "cell_type": "code",
   "execution_count": 7,
   "metadata": {},
   "outputs": [
    {
     "data": {
      "application/vnd.jupyter.widget-view+json": {
       "model_id": "",
       "version_major": 2,
       "version_minor": 0
      },
      "text/plain": [
       "HBox(children=(IntProgress(value=0, max=500), HTML(value='')))"
      ]
     },
     "metadata": {},
     "output_type": "display_data"
    },
    {
     "name": "stdout",
     "output_type": "stream",
     "text": [
      "\r"
     ]
    },
    {
     "data": {
      "application/vnd.jupyter.widget-view+json": {
       "model_id": "",
       "version_major": 2,
       "version_minor": 0
      },
      "text/plain": [
       "HBox(children=(IntProgress(value=0), HTML(value='')))"
      ]
     },
     "metadata": {},
     "output_type": "display_data"
    },
    {
     "name": "stdout",
     "output_type": "stream",
     "text": [
      "\r",
      "Epoch: 1, Train Loss: 2.0281, Train Accuracy: 0.21, Test Loss: 1.7474, Test Accuracy: 0.27\n"
     ]
    },
    {
     "data": {
      "application/vnd.jupyter.widget-view+json": {
       "model_id": "",
       "version_major": 2,
       "version_minor": 0
      },
      "text/plain": [
       "HBox(children=(IntProgress(value=0, max=500), HTML(value='')))"
      ]
     },
     "metadata": {},
     "output_type": "display_data"
    },
    {
     "name": "stdout",
     "output_type": "stream",
     "text": [
      "\r"
     ]
    },
    {
     "data": {
      "application/vnd.jupyter.widget-view+json": {
       "model_id": "",
       "version_major": 2,
       "version_minor": 0
      },
      "text/plain": [
       "HBox(children=(IntProgress(value=0), HTML(value='')))"
      ]
     },
     "metadata": {},
     "output_type": "display_data"
    },
    {
     "name": "stdout",
     "output_type": "stream",
     "text": [
      "\r",
      "Epoch: 2, Train Loss: 1.6059, Train Accuracy: 0.35, Test Loss: 1.3280, Test Accuracy: 0.49\n"
     ]
    },
    {
     "data": {
      "application/vnd.jupyter.widget-view+json": {
       "model_id": "",
       "version_major": 2,
       "version_minor": 0
      },
      "text/plain": [
       "HBox(children=(IntProgress(value=0, max=500), HTML(value='')))"
      ]
     },
     "metadata": {},
     "output_type": "display_data"
    },
    {
     "name": "stdout",
     "output_type": "stream",
     "text": [
      "\r"
     ]
    },
    {
     "data": {
      "application/vnd.jupyter.widget-view+json": {
       "model_id": "",
       "version_major": 2,
       "version_minor": 0
      },
      "text/plain": [
       "HBox(children=(IntProgress(value=0), HTML(value='')))"
      ]
     },
     "metadata": {},
     "output_type": "display_data"
    },
    {
     "name": "stdout",
     "output_type": "stream",
     "text": [
      "\r",
      "Epoch: 3, Train Loss: 1.3217, Train Accuracy: 0.50, Test Loss: 1.3075, Test Accuracy: 0.53\n"
     ]
    },
    {
     "data": {
      "application/vnd.jupyter.widget-view+json": {
       "model_id": "",
       "version_major": 2,
       "version_minor": 0
      },
      "text/plain": [
       "HBox(children=(IntProgress(value=0, max=500), HTML(value='')))"
      ]
     },
     "metadata": {},
     "output_type": "display_data"
    },
    {
     "name": "stdout",
     "output_type": "stream",
     "text": [
      "\r"
     ]
    },
    {
     "data": {
      "application/vnd.jupyter.widget-view+json": {
       "model_id": "",
       "version_major": 2,
       "version_minor": 0
      },
      "text/plain": [
       "HBox(children=(IntProgress(value=0), HTML(value='')))"
      ]
     },
     "metadata": {},
     "output_type": "display_data"
    },
    {
     "name": "stdout",
     "output_type": "stream",
     "text": [
      "\r",
      "Epoch: 4, Train Loss: 1.1075, Train Accuracy: 0.61, Test Loss: 1.0214, Test Accuracy: 0.64\n"
     ]
    },
    {
     "data": {
      "application/vnd.jupyter.widget-view+json": {
       "model_id": "",
       "version_major": 2,
       "version_minor": 0
      },
      "text/plain": [
       "HBox(children=(IntProgress(value=0, max=500), HTML(value='')))"
      ]
     },
     "metadata": {},
     "output_type": "display_data"
    },
    {
     "name": "stdout",
     "output_type": "stream",
     "text": [
      "\r"
     ]
    },
    {
     "data": {
      "application/vnd.jupyter.widget-view+json": {
       "model_id": "",
       "version_major": 2,
       "version_minor": 0
      },
      "text/plain": [
       "HBox(children=(IntProgress(value=0), HTML(value='')))"
      ]
     },
     "metadata": {},
     "output_type": "display_data"
    },
    {
     "name": "stdout",
     "output_type": "stream",
     "text": [
      "\r",
      "Epoch: 5, Train Loss: 0.9258, Train Accuracy: 0.69, Test Loss: 0.9036, Test Accuracy: 0.69\n"
     ]
    }
   ],
   "source": [
    "max_epochs = 5\n",
    "for e in range(max_epochs):\n",
    "    train_loss, train_acc = train_loop(model, train_loader, optimizer, len(trainset_trans)/batch_size, gpu_id)\n",
    "    test_loss, test_acc = valid_loop(model, test_loader, optimizer, len(testset_trans)/batch_size, gpu_id)\n",
    "    print('Epoch: {}, Train Loss: {:.4f}, Train Accuracy: {:.2f}, Test Loss: {:.4f}, Test Accuracy: {:.2f}'.format(\n",
    "    e + 1, train_loss, train_acc, test_loss, test_acc))"
   ]
  },
  {
   "cell_type": "code",
   "execution_count": 8,
   "metadata": {},
   "outputs": [],
   "source": [
    "chainer.serializers.save_npz('params/model.npz', model)"
   ]
  }
 ],
 "metadata": {
  "kernelspec": {
   "display_name": "Python 3",
   "language": "python",
   "name": "python3"
  },
  "language_info": {
   "codemirror_mode": {
    "name": "ipython",
    "version": 3
   },
   "file_extension": ".py",
   "mimetype": "text/x-python",
   "name": "python",
   "nbconvert_exporter": "python",
   "pygments_lexer": "ipython3",
   "version": "3.6.6"
  },
  "widgets": {
   "state": {
    "0bd7dc127ee4413ab515cf577540ea92": {
     "views": []
    },
    "0c1aa2a507b34b2b91c2fbe12f07ebe2": {
     "views": []
    },
    "0da26128e16c4b64b5d6b2e83b357821": {
     "views": []
    },
    "217fff5275de4f19b50ace5ae34b467c": {
     "views": []
    },
    "51a5731714674519a39e4ae5ba4f9358": {
     "views": []
    },
    "5b92f8907c7541498b56257eeeab6ce4": {
     "views": []
    },
    "79798855771a486d9fcd5ce068b95f4c": {
     "views": []
    },
    "c3b05fb389784aea82a075a0468743cc": {
     "views": []
    },
    "d4d9eb0e3f0e47ce8fd424dce19cdca1": {
     "views": [
      {
       "cell_index": 11
      }
     ]
    },
    "ec3f0e957d094c4a85de04d49251d2c5": {
     "views": []
    },
    "f7e4125f6ded474f92d4df71d055a5f9": {
     "views": []
    },
    "ffbaca3b0ac744da90f889606a2cf59f": {
     "views": []
    }
   },
   "version": "1.1.2"
  }
 },
 "nbformat": 4,
 "nbformat_minor": 2
}
