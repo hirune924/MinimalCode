{
 "cells": [
  {
   "cell_type": "code",
   "execution_count": 1,
   "metadata": {},
   "outputs": [],
   "source": [
    "import torch\n",
    "import torch.nn as nn\n",
    "import torch.optim as optim\n",
    "import torchvision\n",
    "import torchvision.transforms as transforms\n",
    "import torchvision.models as models\n",
    "\n",
    "#from tqdm import tqdm\n",
    "from tqdm import tqdm_notebook as tqdm\n",
    "from time import sleep"
   ]
  },
  {
   "cell_type": "markdown",
   "metadata": {},
   "source": [
    "# DataLoader(CIFAR10)"
   ]
  },
  {
   "cell_type": "code",
   "execution_count": 2,
   "metadata": {},
   "outputs": [
    {
     "name": "stdout",
     "output_type": "stream",
     "text": [
      "Files already downloaded and verified\n"
     ]
    }
   ],
   "source": [
    "transform = transforms.Compose(\n",
    "    [transforms.ToTensor(),\n",
    "     transforms.Normalize((0.5, 0.5, 0.5), (0.5, 0.5, 0.5))])\n",
    "\n",
    "testset = torchvision.datasets.CIFAR10(root='./data', train=False,\n",
    "                                       download=True, transform=transform)\n",
    "test_loader = torch.utils.data.DataLoader(testset, batch_size=128,\n",
    "                                         shuffle=False, num_workers=2)\n",
    "\n",
    "classes = ('plane', 'car', 'bird', 'cat',\n",
    "           'deer', 'dog', 'frog', 'horse', 'ship', 'truck')"
   ]
  },
  {
   "cell_type": "markdown",
   "metadata": {},
   "source": [
    "# Model"
   ]
  },
  {
   "cell_type": "code",
   "execution_count": 3,
   "metadata": {},
   "outputs": [],
   "source": [
    "model = models.vgg11_bn(pretrained=False) \n",
    "model.classifier[0] = nn.Linear(512, 4096)\n",
    "model.classifier[6] = nn.Linear(model.classifier[6].in_features, len(classes))\n",
    "model.cuda()\n",
    "model.load_state_dict(torch.load('params/model.pth'))"
   ]
  },
  {
   "cell_type": "markdown",
   "metadata": {},
   "source": [
    "# Validation function"
   ]
  },
  {
   "cell_type": "code",
   "execution_count": 4,
   "metadata": {},
   "outputs": [],
   "source": [
    "def inference_loop(model, loader):\n",
    "    model.eval()\n",
    "    total_acc, total_num = 0, 0\n",
    "    bar = tqdm(test_loader, total=len(test_loader), leave=False)\n",
    "    for i, feed in enumerate(loader):\n",
    "        with torch.no_grad():\n",
    "            # Prepare data\n",
    "            inputs, labels = feed\n",
    "            inputs = inputs.cuda()\n",
    "            labels = labels.cuda()\n",
    "            # Foward\n",
    "            outputs = model(inputs)\n",
    "            # Update bar\n",
    "            ## Accuracy\n",
    "            pred = outputs.data.max(1, keepdim=True)[1]\n",
    "            acc = pred.eq(labels.data.view_as(pred)).sum()\n",
    "            ## Calcurate Score\n",
    "            total_acc += acc.item()\n",
    "            total_num += labels.size(0)\n",
    "\n",
    "            bar.set_description(\"Accuracy: {:.2f}\".format(total_acc / total_num * 100), refresh=True)\n",
    "            bar.update()\n",
    "    bar.close()\n",
    "    return total_num, total_acc / total_num * 100"
   ]
  },
  {
   "cell_type": "code",
   "execution_count": 5,
   "metadata": {},
   "outputs": [
    {
     "data": {
      "application/vnd.jupyter.widget-view+json": {
       "model_id": "",
       "version_major": 2,
       "version_minor": 0
      },
      "text/plain": [
       "HBox(children=(IntProgress(value=0, max=79), HTML(value='')))"
      ]
     },
     "metadata": {},
     "output_type": "display_data"
    },
    {
     "name": "stdout",
     "output_type": "stream",
     "text": [
      "\r",
      "Data num: 10000, Test Accuracy: 85.51\n"
     ]
    }
   ],
   "source": [
    "data_num, test_acc = inference_loop(model, test_loader)\n",
    "print('Data num: {}, Test Accuracy: {:.2f}'.format(data_num, test_acc))\n"
   ]
  }
 ],
 "metadata": {
  "kernelspec": {
   "display_name": "Python 3",
   "language": "python",
   "name": "python3"
  },
  "language_info": {
   "codemirror_mode": {
    "name": "ipython",
    "version": 3
   },
   "file_extension": ".py",
   "mimetype": "text/x-python",
   "name": "python",
   "nbconvert_exporter": "python",
   "pygments_lexer": "ipython3",
   "version": "3.6.6"
  }
 },
 "nbformat": 4,
 "nbformat_minor": 2
}
