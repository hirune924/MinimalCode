{
 "cells": [
  {
   "cell_type": "code",
   "execution_count": 1,
   "metadata": {},
   "outputs": [],
   "source": [
    "import chainer\n",
    "import chainer.links as L\n",
    "import chainer.functions as F\n",
    "import chainer.optimizers as opt\n",
    "from chainer.dataset import concat_examples\n",
    "from chainer.backends import cuda\n",
    "\n",
    "import numpy as np\n",
    "import math\n",
    "from functools import partial\n",
    "\n",
    "#from tqdm import tqdm\n",
    "from tqdm import tqdm_notebook as tqdm\n",
    "# for visualization\n",
    "import matplotlib.pyplot as plt\n",
    "%matplotlib inline\n",
    "\n",
    "import models.VGG"
   ]
  },
  {
   "cell_type": "markdown",
   "metadata": {},
   "source": [
    "# Model"
   ]
  },
  {
   "cell_type": "code",
   "execution_count": 2,
   "metadata": {},
   "outputs": [],
   "source": [
    "#model = L.VGG16Layers()\n",
    "#model.fc6 = L.Linear(512, 4096)\n",
    "#model.fc8 = L.Linear(4096, len(classes))\n",
    "#model.available_layers\n",
    "\n",
    "#model = L.Classifier(models.VGG.VGG(len(classes)))\n",
    "model = models.VGG.VGG()\n",
    "\n",
    "gpu_id = 0  # Set to -1 if you use CPU\n",
    "if gpu_id >= 0:\n",
    "    model.to_gpu(gpu_id)"
   ]
  },
  {
   "cell_type": "markdown",
   "metadata": {},
   "source": [
    "# Optimizer"
   ]
  },
  {
   "cell_type": "code",
   "execution_count": 3,
   "metadata": {},
   "outputs": [
    {
     "data": {
      "text/plain": [
       "<chainer.optimizers.momentum_sgd.MomentumSGD at 0x7ff72e7bd0b8>"
      ]
     },
     "execution_count": 3,
     "metadata": {},
     "output_type": "execute_result"
    }
   ],
   "source": [
    "optimizer = opt.MomentumSGD()\n",
    "optimizer.setup(model)"
   ]
  },
  {
   "cell_type": "markdown",
   "metadata": {},
   "source": [
    "# Cosine Annealing"
   ]
  },
  {
   "cell_type": "code",
   "execution_count": 4,
   "metadata": {},
   "outputs": [],
   "source": [
    "def cosine_annealing(optimizer, start_lr, cur_steps, num_cycle):\n",
    "    t_cur = cur_steps % num_cycle\n",
    "    lr = 0.5 * start_lr * (math.cos(math.pi * t_cur / num_cycle) + 1)\n",
    "    optimizer.lr = lr\n",
    "    return lr"
   ]
  },
  {
   "cell_type": "code",
   "execution_count": 5,
   "metadata": {},
   "outputs": [
    {
     "data": {
      "text/plain": [
       "[<matplotlib.lines.Line2D at 0x7ff726f364a8>]"
      ]
     },
     "execution_count": 5,
     "metadata": {},
     "output_type": "execute_result"
    },
    {
     "data": {
      "image/png": "[encoded data removed]",
      "text/plain": [
       "<Figure size 432x288 with 1 Axes>"
      ]
     },
     "metadata": {
      "needs_background": "light"
     },
     "output_type": "display_data"
    }
   ],
   "source": [
    "max_epochs = 10000\n",
    "start_lr = 0.1\n",
    "num_cycle = 2000\n",
    "lr = []\n",
    "for e in range(max_epochs):\n",
    "    lr.append(cosine_annealing(optimizer, start_lr, e, num_cycle))\n",
    "plt.plot(range(max_epochs), lr)"
   ]
  }
 ],
 "metadata": {
  "kernelspec": {
   "display_name": "Python 3",
   "language": "python",
   "name": "python3"
  },
  "language_info": {
   "codemirror_mode": {
    "name": "ipython",
    "version": 3
   },
   "file_extension": ".py",
   "mimetype": "text/x-python",
   "name": "python",
   "nbconvert_exporter": "python",
   "pygments_lexer": "ipython3",
   "version": "3.5.6"
  },
  "widgets": {
   "state": {
    "0bd7dc127ee4413ab515cf577540ea92": {
     "views": []
    },
    "0c1aa2a507b34b2b91c2fbe12f07ebe2": {
     "views": []
    },
    "0da26128e16c4b64b5d6b2e83b357821": {
     "views": []
    },
    "217fff5275de4f19b50ace5ae34b467c": {
     "views": []
    },
    "51a5731714674519a39e4ae5ba4f9358": {
     "views": []
    },
    "5b92f8907c7541498b56257eeeab6ce4": {
     "views": []
    },
    "79798855771a486d9fcd5ce068b95f4c": {
     "views": []
    },
    "c3b05fb389784aea82a075a0468743cc": {
     "views": []
    },
    "d4d9eb0e3f0e47ce8fd424dce19cdca1": {
     "views": [
      {
       "cell_index": 11
      }
     ]
    },
    "ec3f0e957d094c4a85de04d49251d2c5": {
     "views": []
    },
    "f7e4125f6ded474f92d4df71d055a5f9": {
     "views": []
    },
    "ffbaca3b0ac744da90f889606a2cf59f": {
     "views": []
    }
   },
   "version": "1.1.2"
  }
 },
 "nbformat": 4,
 "nbformat_minor": 2
}
